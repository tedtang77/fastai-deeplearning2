{
 "cells": [
  {
   "cell_type": "markdown",
   "metadata": {},
   "source": [
    "# Spelling Bee"
   ]
  },
  {
   "cell_type": "markdown",
   "metadata": {},
   "source": [
    "This notebook starts our deep dive (no pun intended) into NLP by introducing sequence-to-sequence learning on Spelling Bee."
   ]
  },
  {
   "cell_type": "markdown",
   "metadata": {
    "heading_collapsed": true
   },
   "source": [
    "## Data Stuff\n",
    "\n",
    "We take our data set from [The CMU pronouncing dictionary](https://en.wikipedia.org/wiki/CMU_Pronouncing_Dictionary) \n",
    "\n",
    "[Dataset Download Page](http://svn.code.sf.net/p/cmusphinx/code/trunk/cmudict/)"
   ]
  },
  {
   "cell_type": "code",
   "execution_count": 7,
   "metadata": {},
   "outputs": [],
   "source": [
    "%matplotlib inline\n",
    "from importlib import reload\n",
    "import utils2; reload(utils2)\n",
    "from utils2 import *\n",
    "np.set_printoptions(precision=4)\n",
    "PATH = 'data/spellbee/'"
   ]
  },
  {
   "cell_type": "code",
   "execution_count": 8,
   "metadata": {
    "collapsed": true
   },
   "outputs": [],
   "source": [
    "limit_mem()"
   ]
  },
  {
   "cell_type": "code",
   "execution_count": 9,
   "metadata": {
    "collapsed": true
   },
   "outputs": [],
   "source": [
    "from sklearn.model_selection import train_test_split"
   ]
  },
  {
   "cell_type": "markdown",
   "metadata": {
    "hidden": true
   },
   "source": [
    "The CMU pronouncing dictionary consists of sounds/words and their corresponding phonetic description (American pronunciation).\n",
    "\n",
    "The phonetic descriptions are a sequence of phonemes. Note that the vowels end with integers; these indicate where the stress is.\n",
    "\n",
    "Our goal is to learn how to spell these words given the sequence of phonemes."
   ]
  },
  {
   "cell_type": "markdown",
   "metadata": {
    "hidden": true
   },
   "source": [
    "The preparation of this data set follows the same pattern we've seen before for NLP tasks.\n",
    "\n",
    "Here we iterate through each line of the file and grab each word/phoneme pair that starts with an uppercase letter. "
   ]
  },
  {
   "cell_type": "code",
   "execution_count": 10,
   "metadata": {
    "collapsed": true
   },
   "outputs": [],
   "source": [
    "fname = get_file('cmudict-0.7b', \n",
    "                 origin='http://svn.code.sf.net/p/cmusphinx/code/trunk/cmudict/cmudict-0.7b',\n",
    "                cache_subdir=os.path.join(os.getcwd(),PATH))"
   ]
  },
  {
   "cell_type": "code",
   "execution_count": 17,
   "metadata": {},
   "outputs": [
    {
     "data": {
      "text/plain": [
       "(('A', ['AH0']), ('ZYWICKI', ['Z', 'IH0', 'W', 'IH1', 'K', 'IY0']))"
      ]
     },
     "execution_count": 17,
     "metadata": {},
     "output_type": "execute_result"
    }
   ],
   "source": [
    "lines = [l.strip().split(\"  \") for l in open(fname, encoding='latin1') if re.match(\"^[A-Z]\", l)]\n",
    "lines = [(w, ps.split()) for w, ps in lines]\n",
    "lines[0], lines[-1]"
   ]
  },
  {
   "cell_type": "code",
   "execution_count": 18,
   "metadata": {},
   "outputs": [
    {
     "data": {
      "text/plain": [
       "133779"
      ]
     },
     "execution_count": 18,
     "metadata": {},
     "output_type": "execute_result"
    }
   ],
   "source": [
    "len(lines)"
   ]
  },
  {
   "cell_type": "markdown",
   "metadata": {
    "hidden": true
   },
   "source": [
    "Next we're going to get a list of the unique phonemes in our vocabulary, as well as add a null \"_\" for zero-padding."
   ]
  },
  {
   "cell_type": "code",
   "execution_count": 23,
   "metadata": {},
   "outputs": [
    {
     "data": {
      "text/plain": [
       "['_', 'AA0', 'AA1', 'AA2', 'AE0']"
      ]
     },
     "execution_count": 23,
     "metadata": {},
     "output_type": "execute_result"
    }
   ],
   "source": [
    "phonemes = [\"_\"] + sorted(set(p for w,ps in lines for p in ps))\n",
    "phonemes[:5]"
   ]
  },
  {
   "cell_type": "code",
   "execution_count": 24,
   "metadata": {},
   "outputs": [
    {
     "data": {
      "text/plain": [
       "70"
      ]
     },
     "execution_count": 24,
     "metadata": {},
     "output_type": "execute_result"
    }
   ],
   "source": [
    "len(phonemes)"
   ]
  },
  {
   "cell_type": "markdown",
   "metadata": {
    "hidden": true
   },
   "source": [
    "Then we create mappings of phonemes and letters to respective indices.\n",
    "\n",
    "Our letters include the padding element \"_\", but also \"*\" which we'll explain later."
   ]
  },
  {
   "cell_type": "code",
   "execution_count": 26,
   "metadata": {
    "collapsed": true
   },
   "outputs": [],
   "source": [
    "p2i = {w:idx for idx, w in enumerate(phonemes)}\n",
    "letters = \"_abcdefghijklmnopqrstuvwxyz*\"\n",
    "l2i = {l:idx for idx, l in enumerate(letters)}"
   ]
  },
  {
   "cell_type": "markdown",
   "metadata": {
    "hidden": true
   },
   "source": [
    "Let's create a dictionary mapping words to the sequence of indices corresponding to it's phonemes, and let's do it only for words between 5 and 15 characters long."
   ]
  },
  {
   "cell_type": "code",
   "execution_count": 35,
   "metadata": {},
   "outputs": [
    {
     "name": "stdout",
     "output_type": "stream",
     "text": [
      "108006\n"
     ]
    }
   ],
   "source": [
    "maxlen = 15\n",
    "pronounce_dict = {w.lower(): [p2i[p] for p in ps]    for w, ps in lines \n",
    " if 5<=len(w)<=maxlen and re.match(\"^[A-Z]+$\", w)}\n",
    "print(len(pronounce_dict))"
   ]
  },
  {
   "cell_type": "markdown",
   "metadata": {
    "hidden": true
   },
   "source": [
    "Aside on various approaches to python's list comprehension:\n",
    "* the first list is a typical example of a list comprehension subject to a conditional\n",
    "* the second is a list comprehension inside a list comprehension, which returns a list of list\n",
    "* the third is similar to the second, but is read and behaves like a nested loop\n",
    "    * Since there is no inner bracket, there are no lists wrapping the inner loop"
   ]
  },
  {
   "cell_type": "code",
   "execution_count": 33,
   "metadata": {
    "hidden": true
   },
   "outputs": [
    {
     "data": {
      "text/plain": [
       "(['XYZ'], [['x', 'y', 'z'], ['a', 'b', 'c']], ['x', 'y', 'z', 'a', 'b', 'c'])"
      ]
     },
     "execution_count": 33,
     "metadata": {},
     "output_type": "execute_result"
    }
   ],
   "source": [
    "a=['xyz','abc']\n",
    "[o.upper() for o in a if o[0]=='x'], [[p for p in o] for o in a], [p for o in a for p in o]"
   ]
  },
  {
   "cell_type": "markdown",
   "metadata": {
    "hidden": true
   },
   "source": [
    "Split lines into words, phonemes, convert to indexes (with padding), split into training, validation, test sets. Note we also find the max phoneme sequence length for padding."
   ]
  },
  {
   "cell_type": "code",
   "execution_count": 40,
   "metadata": {},
   "outputs": [
    {
     "name": "stdout",
     "output_type": "stream",
     "text": [
      "16\n"
     ]
    }
   ],
   "source": [
    "maxlen_p = max([len(v) for k,v in pronounce_dict.items()]); print(maxlen_p)"
   ]
  },
  {
   "cell_type": "code",
   "execution_count": 51,
   "metadata": {},
   "outputs": [],
   "source": [
    "pairs = np.random.permutation(list(pronounce_dict.keys()))\n",
    "n = len(pairs) # len(pronounce_dict)\n",
    "input_ = np.zeros((n, maxlen_p), np.int32)\n",
    "labels_ = np.zeros((n, maxlen), np.int32)\n",
    "\n",
    "for i, k in enumerate(pairs):\n",
    "    # input_[i] <= pronounce_dict[k]\n",
    "    for j, pi in enumerate(pronounce_dict[k]): input_[i][j] = pi\n",
    "    #labels_[i] <= l2i[k]\n",
    "    for j, letter in enumerate(k): labels_[i][j] = l2i[letter]"
   ]
  },
  {
   "cell_type": "code",
   "execution_count": 52,
   "metadata": {
    "collapsed": true,
    "hidden": true
   },
   "outputs": [],
   "source": [
    "go_token = l2i[\"*\"]\n",
    "dec_input_ = np.concatenate([np.ones((n,1)) * go_token, labels_[:,:-1]], axis=1)"
   ]
  },
  {
   "cell_type": "markdown",
   "metadata": {
    "hidden": true
   },
   "source": [
    "Sklearn's <tt>train_test_split</tt> is an easy way to split data into training and testing sets."
   ]
  },
  {
   "cell_type": "code",
   "execution_count": 57,
   "metadata": {},
   "outputs": [],
   "source": [
    "(input_train, input_test, labels_train, labels_test, dec_input_train, dec_input_test\n",
    "    ) = train_test_split(input_, labels_, dec_input_, test_size=0.1)"
   ]
  },
  {
   "cell_type": "code",
   "execution_count": 61,
   "metadata": {
    "scrolled": true
   },
   "outputs": [
    {
     "data": {
      "text/plain": [
       "((97205, 16), (97205, 15))"
      ]
     },
     "execution_count": 61,
     "metadata": {},
     "output_type": "execute_result"
    }
   ],
   "source": [
    "input_train.shape, labels_train.shape"
   ]
  },
  {
   "cell_type": "code",
   "execution_count": 64,
   "metadata": {},
   "outputs": [
    {
     "data": {
      "text/plain": [
       "(70, 28)"
      ]
     },
     "execution_count": 64,
     "metadata": {},
     "output_type": "execute_result"
    }
   ],
   "source": [
    "input_vocab_size, output_vocab_size = len(phonemes), len(letters)\n",
    "input_vocab_size, output_vocab_size"
   ]
  },
  {
   "cell_type": "markdown",
   "metadata": {
    "hidden": true
   },
   "source": [
    "Next we proceed to build our model."
   ]
  },
  {
   "cell_type": "markdown",
   "metadata": {},
   "source": [
    "## Keras code"
   ]
  },
  {
   "cell_type": "code",
   "execution_count": null,
   "metadata": {
    "collapsed": true
   },
   "outputs": [],
   "source": []
  },
  {
   "cell_type": "markdown",
   "metadata": {},
   "source": [
    "### Without attention"
   ]
  },
  {
   "cell_type": "code",
   "execution_count": null,
   "metadata": {
    "collapsed": true
   },
   "outputs": [],
   "source": []
  },
  {
   "cell_type": "markdown",
   "metadata": {},
   "source": [
    "The model has three parts:\n",
    "* We first pass list of phonemes through an embedding function to get a list of phoneme embeddings. Our goal is to turn this sequence of embeddings into a single distributed representation that captures what our phonemes say.\n",
    "* Turning a sequence into a representation can be done using an RNN. This approach is useful because RNN's are able to keep track of state and memory, which is obviously important in forming a complete understanding of a pronunciation.\n",
    "    * <tt>BiDirectional</tt> passes the original sequence through an RNN, and the reversed sequence through a different RNN and concatenates the results. This allows us to look forward and backwards.\n",
    "    * We do this because in language things that happen later often influence what came before (i.e. in Spanish, \"el chico, la chica\" means the boy, the girl; the word for \"the\" is determined by the gender of the subject, which comes after).\n",
    "* Finally, we arrive at a vector representation of the sequence which captures everything we need to spell it. We feed this vector into more RNN's, which are trying to generate the labels. After this, we make a classification for what each letter is in the output sequence.\n",
    "    * We use <tt>RepeatVector</tt> to help our RNN remember at each point what the original word is that it's trying to translate.\n",
    "    \n"
   ]
  },
  {
   "cell_type": "code",
   "execution_count": null,
   "metadata": {
    "collapsed": true
   },
   "outputs": [],
   "source": []
  },
  {
   "cell_type": "markdown",
   "metadata": {},
   "source": [
    "### With attention"
   ]
  },
  {
   "cell_type": "code",
   "execution_count": 66,
   "metadata": {},
   "outputs": [
    {
     "data": {
      "text/plain": [
       "(16, 15)"
      ]
     },
     "execution_count": 66,
     "metadata": {},
     "output_type": "execute_result"
    }
   ],
   "source": [
    "Tx = maxlen_p\n",
    "Ty = maxlen\n",
    "Tx, Ty"
   ]
  },
  {
   "cell_type": "code",
   "execution_count": 68,
   "metadata": {
    "collapsed": true
   },
   "outputs": [],
   "source": [
    "def softmax(x, axis=1):\n",
    "    \"\"\"Softmax activation function.\n",
    "    # Arguments\n",
    "        x : Tensor.\n",
    "        axis: Integer, axis along which the softmax normalization is applied.\n",
    "    # Returns\n",
    "        Tensor, output of softmax transformation.\n",
    "    # Raises\n",
    "        ValueError: In case `dim(x) == 1`.\n",
    "    \"\"\"\n",
    "    ndim = K.ndim(x)\n",
    "    if ndim == 2:\n",
    "        return K.softmax(x)\n",
    "    elif ndim > 2:\n",
    "        e = K.exp(x - K.max(x, axis=axis, keepdims=True))\n",
    "        s = K.sum(e, axis=axis, keepdims=True)\n",
    "        return e / s\n",
    "    else:\n",
    "        raise ValueError('Cannot apply softmax to a tensor that is 1D')"
   ]
  },
  {
   "cell_type": "code",
   "execution_count": 67,
   "metadata": {
    "collapsed": true
   },
   "outputs": [],
   "source": [
    "def one_step_attention(a, s_prev, Tx):\n",
    "    \"\"\"\n",
    "    Performs one step of attention: Outputs a context vector computed as a dot product of the attention weights\n",
    "    \"alphas\" and the hidden states \"a\" of the Bi-LSTM.\n",
    "    \n",
    "    Arguments:\n",
    "    a -- hidden state output of the Bi-LSTM, numpy-array of shape (m, Tx, 2*n_a)\n",
    "    s_prev -- previous hidden state of the (post-attention) LSTM, numpy-array of shape (m, n_s)\n",
    "    \n",
    "    Returns:\n",
    "    context -- context vector, input of the next (post-attetion) LSTM cell\n",
    "    \"\"\"\n",
    "    \n",
    "    # Use repeator to repeat s_prev to be of shape (m, Tx, n_s) so that you can concatenate it with all hidden states \"a\" (≈ 1 line)\n",
    "    s_prev = RepeatVector(Tx)(s_prev) #repeator(s_prev)\n",
    "    # Use concatenator to concatenate a and s_prev on the last axis (≈ 1 line)\n",
    "    concat = Concatenate(axis=-1)([a, s_prev]) #concatenator([a, s_prev])\n",
    "    # Use densor to propagate concat through a small fully-connected neural network to compute the \"energies\" variable e. (≈1 lines)\n",
    "    e = Dense(1, activation = \"relu\")(concat) #densor(concat)\n",
    "    # Use activator and e to compute the attention weights \"alphas\" (≈ 1 line) \n",
    "    # We are using a custom softmax(axis = 1) loaded in this notebook\n",
    "    alphas = Activation(softmax)(e) #activator(e) # Activation(softmax, name='attention_weights')(e)\n",
    "    # Use dotor together with \"alphas\" and \"a\" to compute the context vector to be given to the next (post-attention) LSTM-cell (≈ 1 line)\n",
    "    context = Dot(axes = 1)([alphas, a]) #dotor([alphas, a])\n",
    "\n",
    "    return context"
   ]
  },
  {
   "cell_type": "code",
   "execution_count": 71,
   "metadata": {
    "collapsed": true
   },
   "outputs": [],
   "source": [
    "n_a = 64\n",
    "n_s = 128\n",
    "\n",
    "def model(Tx, Ty, n_a, n_s, input_vocab_size, output_vocab_size):\n",
    "    \"\"\"\n",
    "    Arguments:\n",
    "    Tx -- length of the input sequence\n",
    "    Ty -- length of the output sequence\n",
    "    n_a -- hidden state size of the Bi-LSTM\n",
    "    n_s -- hidden state size of the post-attention LSTM\n",
    "    input_vocab_size -- size of the python dictionary \"input_vocab\"\n",
    "    output_vocab_size -- size of the python dictionary \"output_vocab\"\n",
    "\n",
    "    Returns:\n",
    "    model -- Keras model instance\n",
    "    \"\"\"\n",
    "    \n",
    "    # Define the inputs of your model with a shape (Tx,)\n",
    "    # Define s0 and c0, initial hidden state for the decoder LSTM of shape (n_s,)\n",
    "    X = Input(shape=(Tx, input_vocab_size))\n",
    "    s0 = Input(shape=(n_s,), name='s0')\n",
    "    c0 = Input(shape=(n_s,), name='c0')\n",
    "    s = s0\n",
    "    c = c0\n",
    "    \n",
    "    # Initialize empty list of outputs\n",
    "    outputs = []\n",
    "    \n",
    "    # Step 1: Define your pre-attention Bi-LSTM. Remember to use return_sequences=True. (≈ 1 line)\n",
    "    a = Bidirectional(LSTM(n_a, return_sequences=True))(X)\n",
    "    \n",
    "    # Step 2: Iterate for Ty steps\n",
    "    for t in range(Ty):\n",
    "    \n",
    "        # Step 2.A: Perform one step of the attention mechanism to get back the context vector at step t (≈ 1 line)\n",
    "        context = one_step_attention(a, s, Tx)\n",
    "        \n",
    "        # Step 2.B: Apply the post-attention LSTM cell to the \"context\" vector.\n",
    "        # Don't forget to pass: initial_state = [hidden state, cell state] (≈ 1 line)\n",
    "        s, _, c = LSTM(n_s, return_state = True)(context, initial_state = [s, c]) # post_activation_LSTM_cell=LSTM(n_s, return_state = True)\n",
    "        \n",
    "        # Step 2.C: Apply Dense layer to the hidden state output of the post-attention LSTM (≈ 1 line)\n",
    "        out = Dense(output_vocab_size, activation=softmax)(s) # output_layer = Dense(len(machine_vocab), activation=softmax)\n",
    "        \n",
    "        # Step 2.D: Append \"out\" to the \"outputs\" list (≈ 1 line)\n",
    "        outputs.append(out)\n",
    "    \n",
    "    # Step 3: Create model instance taking three inputs and returning the list of outputs. (≈ 1 line)\n",
    "    model = Model([X, s0, c0], outputs)\n",
    "    \n",
    "    return model"
   ]
  },
  {
   "cell_type": "code",
   "execution_count": 72,
   "metadata": {
    "collapsed": true
   },
   "outputs": [],
   "source": [
    "model = model(Tx, Ty, n_a, n_s, input_vocab_size, output_vocab_size)"
   ]
  },
  {
   "cell_type": "code",
   "execution_count": 73,
   "metadata": {},
   "outputs": [
    {
     "name": "stdout",
     "output_type": "stream",
     "text": [
      "____________________________________________________________________________________________________\n",
      "Layer (type)                     Output Shape          Param #     Connected to                     \n",
      "====================================================================================================\n",
      "input_1 (InputLayer)             (None, 16, 70)        0                                            \n",
      "____________________________________________________________________________________________________\n",
      "s0 (InputLayer)                  (None, 128)           0                                            \n",
      "____________________________________________________________________________________________________\n",
      "bidirectional_1 (Bidirectional)  (None, 16, 128)       69120       input_1[0][0]                    \n",
      "____________________________________________________________________________________________________\n",
      "repeat_vector_1 (RepeatVector)   (None, 16, 128)       0           s0[0][0]                         \n",
      "____________________________________________________________________________________________________\n",
      "concatenate_1 (Concatenate)      (None, 16, 256)       0           bidirectional_1[0][0]            \n",
      "                                                                   repeat_vector_1[0][0]            \n",
      "____________________________________________________________________________________________________\n",
      "dense_1 (Dense)                  (None, 16, 1)         257         concatenate_1[0][0]              \n",
      "____________________________________________________________________________________________________\n",
      "activation_1 (Activation)        (None, 16, 1)         0           dense_1[0][0]                    \n",
      "____________________________________________________________________________________________________\n",
      "dot_1 (Dot)                      (None, 1, 128)        0           activation_1[0][0]               \n",
      "                                                                   bidirectional_1[0][0]            \n",
      "____________________________________________________________________________________________________\n",
      "c0 (InputLayer)                  (None, 128)           0                                            \n",
      "____________________________________________________________________________________________________\n",
      "lstm_2 (LSTM)                    [(None, 128), (None,  131584      dot_1[0][0]                      \n",
      "                                                                   s0[0][0]                         \n",
      "                                                                   c0[0][0]                         \n",
      "____________________________________________________________________________________________________\n",
      "repeat_vector_2 (RepeatVector)   (None, 16, 128)       0           lstm_2[0][0]                     \n",
      "____________________________________________________________________________________________________\n",
      "concatenate_2 (Concatenate)      (None, 16, 256)       0           bidirectional_1[0][0]            \n",
      "                                                                   repeat_vector_2[0][0]            \n",
      "____________________________________________________________________________________________________\n",
      "dense_3 (Dense)                  (None, 16, 1)         257         concatenate_2[0][0]              \n",
      "____________________________________________________________________________________________________\n",
      "activation_2 (Activation)        (None, 16, 1)         0           dense_3[0][0]                    \n",
      "____________________________________________________________________________________________________\n",
      "dot_2 (Dot)                      (None, 1, 128)        0           activation_2[0][0]               \n",
      "                                                                   bidirectional_1[0][0]            \n",
      "____________________________________________________________________________________________________\n",
      "lstm_3 (LSTM)                    [(None, 128), (None,  131584      dot_2[0][0]                      \n",
      "                                                                   lstm_2[0][0]                     \n",
      "                                                                   lstm_2[0][2]                     \n",
      "____________________________________________________________________________________________________\n",
      "repeat_vector_3 (RepeatVector)   (None, 16, 128)       0           lstm_3[0][0]                     \n",
      "____________________________________________________________________________________________________\n",
      "concatenate_3 (Concatenate)      (None, 16, 256)       0           bidirectional_1[0][0]            \n",
      "                                                                   repeat_vector_3[0][0]            \n",
      "____________________________________________________________________________________________________\n",
      "dense_5 (Dense)                  (None, 16, 1)         257         concatenate_3[0][0]              \n",
      "____________________________________________________________________________________________________\n",
      "activation_3 (Activation)        (None, 16, 1)         0           dense_5[0][0]                    \n",
      "____________________________________________________________________________________________________\n",
      "dot_3 (Dot)                      (None, 1, 128)        0           activation_3[0][0]               \n",
      "                                                                   bidirectional_1[0][0]            \n",
      "____________________________________________________________________________________________________\n",
      "lstm_4 (LSTM)                    [(None, 128), (None,  131584      dot_3[0][0]                      \n",
      "                                                                   lstm_3[0][0]                     \n",
      "                                                                   lstm_3[0][2]                     \n",
      "____________________________________________________________________________________________________\n",
      "repeat_vector_4 (RepeatVector)   (None, 16, 128)       0           lstm_4[0][0]                     \n",
      "____________________________________________________________________________________________________\n",
      "concatenate_4 (Concatenate)      (None, 16, 256)       0           bidirectional_1[0][0]            \n",
      "                                                                   repeat_vector_4[0][0]            \n",
      "____________________________________________________________________________________________________\n",
      "dense_7 (Dense)                  (None, 16, 1)         257         concatenate_4[0][0]              \n",
      "____________________________________________________________________________________________________\n",
      "activation_4 (Activation)        (None, 16, 1)         0           dense_7[0][0]                    \n",
      "____________________________________________________________________________________________________\n",
      "dot_4 (Dot)                      (None, 1, 128)        0           activation_4[0][0]               \n",
      "                                                                   bidirectional_1[0][0]            \n",
      "____________________________________________________________________________________________________\n",
      "lstm_5 (LSTM)                    [(None, 128), (None,  131584      dot_4[0][0]                      \n",
      "                                                                   lstm_4[0][0]                     \n",
      "                                                                   lstm_4[0][2]                     \n",
      "____________________________________________________________________________________________________\n",
      "repeat_vector_5 (RepeatVector)   (None, 16, 128)       0           lstm_5[0][0]                     \n",
      "____________________________________________________________________________________________________\n",
      "concatenate_5 (Concatenate)      (None, 16, 256)       0           bidirectional_1[0][0]            \n",
      "                                                                   repeat_vector_5[0][0]            \n",
      "____________________________________________________________________________________________________\n",
      "dense_9 (Dense)                  (None, 16, 1)         257         concatenate_5[0][0]              \n"
     ]
    },
    {
     "name": "stdout",
     "output_type": "stream",
     "text": [
      "____________________________________________________________________________________________________\n",
      "activation_5 (Activation)        (None, 16, 1)         0           dense_9[0][0]                    \n",
      "____________________________________________________________________________________________________\n",
      "dot_5 (Dot)                      (None, 1, 128)        0           activation_5[0][0]               \n",
      "                                                                   bidirectional_1[0][0]            \n",
      "____________________________________________________________________________________________________\n",
      "lstm_6 (LSTM)                    [(None, 128), (None,  131584      dot_5[0][0]                      \n",
      "                                                                   lstm_5[0][0]                     \n",
      "                                                                   lstm_5[0][2]                     \n",
      "____________________________________________________________________________________________________\n",
      "repeat_vector_6 (RepeatVector)   (None, 16, 128)       0           lstm_6[0][0]                     \n",
      "____________________________________________________________________________________________________\n",
      "concatenate_6 (Concatenate)      (None, 16, 256)       0           bidirectional_1[0][0]            \n",
      "                                                                   repeat_vector_6[0][0]            \n",
      "____________________________________________________________________________________________________\n",
      "dense_11 (Dense)                 (None, 16, 1)         257         concatenate_6[0][0]              \n",
      "____________________________________________________________________________________________________\n",
      "activation_6 (Activation)        (None, 16, 1)         0           dense_11[0][0]                   \n",
      "____________________________________________________________________________________________________\n",
      "dot_6 (Dot)                      (None, 1, 128)        0           activation_6[0][0]               \n",
      "                                                                   bidirectional_1[0][0]            \n",
      "____________________________________________________________________________________________________\n",
      "lstm_7 (LSTM)                    [(None, 128), (None,  131584      dot_6[0][0]                      \n",
      "                                                                   lstm_6[0][0]                     \n",
      "                                                                   lstm_6[0][2]                     \n",
      "____________________________________________________________________________________________________\n",
      "repeat_vector_7 (RepeatVector)   (None, 16, 128)       0           lstm_7[0][0]                     \n",
      "____________________________________________________________________________________________________\n",
      "concatenate_7 (Concatenate)      (None, 16, 256)       0           bidirectional_1[0][0]            \n",
      "                                                                   repeat_vector_7[0][0]            \n",
      "____________________________________________________________________________________________________\n",
      "dense_13 (Dense)                 (None, 16, 1)         257         concatenate_7[0][0]              \n",
      "____________________________________________________________________________________________________\n",
      "activation_7 (Activation)        (None, 16, 1)         0           dense_13[0][0]                   \n",
      "____________________________________________________________________________________________________\n",
      "dot_7 (Dot)                      (None, 1, 128)        0           activation_7[0][0]               \n",
      "                                                                   bidirectional_1[0][0]            \n",
      "____________________________________________________________________________________________________\n",
      "lstm_8 (LSTM)                    [(None, 128), (None,  131584      dot_7[0][0]                      \n",
      "                                                                   lstm_7[0][0]                     \n",
      "                                                                   lstm_7[0][2]                     \n",
      "____________________________________________________________________________________________________\n",
      "repeat_vector_8 (RepeatVector)   (None, 16, 128)       0           lstm_8[0][0]                     \n",
      "____________________________________________________________________________________________________\n",
      "concatenate_8 (Concatenate)      (None, 16, 256)       0           bidirectional_1[0][0]            \n",
      "                                                                   repeat_vector_8[0][0]            \n",
      "____________________________________________________________________________________________________\n",
      "dense_15 (Dense)                 (None, 16, 1)         257         concatenate_8[0][0]              \n",
      "____________________________________________________________________________________________________\n",
      "activation_8 (Activation)        (None, 16, 1)         0           dense_15[0][0]                   \n",
      "____________________________________________________________________________________________________\n",
      "dot_8 (Dot)                      (None, 1, 128)        0           activation_8[0][0]               \n",
      "                                                                   bidirectional_1[0][0]            \n",
      "____________________________________________________________________________________________________\n",
      "lstm_9 (LSTM)                    [(None, 128), (None,  131584      dot_8[0][0]                      \n",
      "                                                                   lstm_8[0][0]                     \n",
      "                                                                   lstm_8[0][2]                     \n",
      "____________________________________________________________________________________________________\n",
      "repeat_vector_9 (RepeatVector)   (None, 16, 128)       0           lstm_9[0][0]                     \n",
      "____________________________________________________________________________________________________\n",
      "concatenate_9 (Concatenate)      (None, 16, 256)       0           bidirectional_1[0][0]            \n",
      "                                                                   repeat_vector_9[0][0]            \n",
      "____________________________________________________________________________________________________\n",
      "dense_17 (Dense)                 (None, 16, 1)         257         concatenate_9[0][0]              \n",
      "____________________________________________________________________________________________________\n",
      "activation_9 (Activation)        (None, 16, 1)         0           dense_17[0][0]                   \n",
      "____________________________________________________________________________________________________\n",
      "dot_9 (Dot)                      (None, 1, 128)        0           activation_9[0][0]               \n",
      "                                                                   bidirectional_1[0][0]            \n",
      "____________________________________________________________________________________________________\n",
      "lstm_10 (LSTM)                   [(None, 128), (None,  131584      dot_9[0][0]                      \n",
      "                                                                   lstm_9[0][0]                     \n",
      "                                                                   lstm_9[0][2]                     \n",
      "____________________________________________________________________________________________________\n",
      "repeat_vector_10 (RepeatVector)  (None, 16, 128)       0           lstm_10[0][0]                    \n",
      "____________________________________________________________________________________________________\n",
      "concatenate_10 (Concatenate)     (None, 16, 256)       0           bidirectional_1[0][0]            \n",
      "                                                                   repeat_vector_10[0][0]           \n",
      "____________________________________________________________________________________________________\n",
      "dense_19 (Dense)                 (None, 16, 1)         257         concatenate_10[0][0]             \n",
      "____________________________________________________________________________________________________\n"
     ]
    },
    {
     "name": "stdout",
     "output_type": "stream",
     "text": [
      "activation_10 (Activation)       (None, 16, 1)         0           dense_19[0][0]                   \n",
      "____________________________________________________________________________________________________\n",
      "dot_10 (Dot)                     (None, 1, 128)        0           activation_10[0][0]              \n",
      "                                                                   bidirectional_1[0][0]            \n",
      "____________________________________________________________________________________________________\n",
      "lstm_11 (LSTM)                   [(None, 128), (None,  131584      dot_10[0][0]                     \n",
      "                                                                   lstm_10[0][0]                    \n",
      "                                                                   lstm_10[0][2]                    \n",
      "____________________________________________________________________________________________________\n",
      "repeat_vector_11 (RepeatVector)  (None, 16, 128)       0           lstm_11[0][0]                    \n",
      "____________________________________________________________________________________________________\n",
      "concatenate_11 (Concatenate)     (None, 16, 256)       0           bidirectional_1[0][0]            \n",
      "                                                                   repeat_vector_11[0][0]           \n",
      "____________________________________________________________________________________________________\n",
      "dense_21 (Dense)                 (None, 16, 1)         257         concatenate_11[0][0]             \n",
      "____________________________________________________________________________________________________\n",
      "activation_11 (Activation)       (None, 16, 1)         0           dense_21[0][0]                   \n",
      "____________________________________________________________________________________________________\n",
      "dot_11 (Dot)                     (None, 1, 128)        0           activation_11[0][0]              \n",
      "                                                                   bidirectional_1[0][0]            \n",
      "____________________________________________________________________________________________________\n",
      "lstm_12 (LSTM)                   [(None, 128), (None,  131584      dot_11[0][0]                     \n",
      "                                                                   lstm_11[0][0]                    \n",
      "                                                                   lstm_11[0][2]                    \n",
      "____________________________________________________________________________________________________\n",
      "repeat_vector_12 (RepeatVector)  (None, 16, 128)       0           lstm_12[0][0]                    \n",
      "____________________________________________________________________________________________________\n",
      "concatenate_12 (Concatenate)     (None, 16, 256)       0           bidirectional_1[0][0]            \n",
      "                                                                   repeat_vector_12[0][0]           \n",
      "____________________________________________________________________________________________________\n",
      "dense_23 (Dense)                 (None, 16, 1)         257         concatenate_12[0][0]             \n",
      "____________________________________________________________________________________________________\n",
      "activation_12 (Activation)       (None, 16, 1)         0           dense_23[0][0]                   \n",
      "____________________________________________________________________________________________________\n",
      "dot_12 (Dot)                     (None, 1, 128)        0           activation_12[0][0]              \n",
      "                                                                   bidirectional_1[0][0]            \n",
      "____________________________________________________________________________________________________\n",
      "lstm_13 (LSTM)                   [(None, 128), (None,  131584      dot_12[0][0]                     \n",
      "                                                                   lstm_12[0][0]                    \n",
      "                                                                   lstm_12[0][2]                    \n",
      "____________________________________________________________________________________________________\n",
      "repeat_vector_13 (RepeatVector)  (None, 16, 128)       0           lstm_13[0][0]                    \n",
      "____________________________________________________________________________________________________\n",
      "concatenate_13 (Concatenate)     (None, 16, 256)       0           bidirectional_1[0][0]            \n",
      "                                                                   repeat_vector_13[0][0]           \n",
      "____________________________________________________________________________________________________\n",
      "dense_25 (Dense)                 (None, 16, 1)         257         concatenate_13[0][0]             \n",
      "____________________________________________________________________________________________________\n",
      "activation_13 (Activation)       (None, 16, 1)         0           dense_25[0][0]                   \n",
      "____________________________________________________________________________________________________\n",
      "dot_13 (Dot)                     (None, 1, 128)        0           activation_13[0][0]              \n",
      "                                                                   bidirectional_1[0][0]            \n",
      "____________________________________________________________________________________________________\n",
      "lstm_14 (LSTM)                   [(None, 128), (None,  131584      dot_13[0][0]                     \n",
      "                                                                   lstm_13[0][0]                    \n",
      "                                                                   lstm_13[0][2]                    \n",
      "____________________________________________________________________________________________________\n",
      "repeat_vector_14 (RepeatVector)  (None, 16, 128)       0           lstm_14[0][0]                    \n",
      "____________________________________________________________________________________________________\n",
      "concatenate_14 (Concatenate)     (None, 16, 256)       0           bidirectional_1[0][0]            \n",
      "                                                                   repeat_vector_14[0][0]           \n",
      "____________________________________________________________________________________________________\n",
      "dense_27 (Dense)                 (None, 16, 1)         257         concatenate_14[0][0]             \n",
      "____________________________________________________________________________________________________\n",
      "activation_14 (Activation)       (None, 16, 1)         0           dense_27[0][0]                   \n",
      "____________________________________________________________________________________________________\n",
      "dot_14 (Dot)                     (None, 1, 128)        0           activation_14[0][0]              \n",
      "                                                                   bidirectional_1[0][0]            \n",
      "____________________________________________________________________________________________________\n",
      "lstm_15 (LSTM)                   [(None, 128), (None,  131584      dot_14[0][0]                     \n",
      "                                                                   lstm_14[0][0]                    \n",
      "                                                                   lstm_14[0][2]                    \n",
      "____________________________________________________________________________________________________\n",
      "repeat_vector_15 (RepeatVector)  (None, 16, 128)       0           lstm_15[0][0]                    \n",
      "____________________________________________________________________________________________________\n",
      "concatenate_15 (Concatenate)     (None, 16, 256)       0           bidirectional_1[0][0]            \n",
      "                                                                   repeat_vector_15[0][0]           \n",
      "____________________________________________________________________________________________________\n",
      "dense_29 (Dense)                 (None, 16, 1)         257         concatenate_15[0][0]             \n",
      "____________________________________________________________________________________________________\n",
      "activation_15 (Activation)       (None, 16, 1)         0           dense_29[0][0]                   \n"
     ]
    },
    {
     "name": "stdout",
     "output_type": "stream",
     "text": [
      "____________________________________________________________________________________________________\n",
      "dot_15 (Dot)                     (None, 1, 128)        0           activation_15[0][0]              \n",
      "                                                                   bidirectional_1[0][0]            \n",
      "____________________________________________________________________________________________________\n",
      "lstm_16 (LSTM)                   [(None, 128), (None,  131584      dot_15[0][0]                     \n",
      "                                                                   lstm_15[0][0]                    \n",
      "                                                                   lstm_15[0][2]                    \n",
      "____________________________________________________________________________________________________\n",
      "dense_2 (Dense)                  (None, 28)            3612        lstm_2[0][0]                     \n",
      "____________________________________________________________________________________________________\n",
      "dense_4 (Dense)                  (None, 28)            3612        lstm_3[0][0]                     \n",
      "____________________________________________________________________________________________________\n",
      "dense_6 (Dense)                  (None, 28)            3612        lstm_4[0][0]                     \n",
      "____________________________________________________________________________________________________\n",
      "dense_8 (Dense)                  (None, 28)            3612        lstm_5[0][0]                     \n",
      "____________________________________________________________________________________________________\n",
      "dense_10 (Dense)                 (None, 28)            3612        lstm_6[0][0]                     \n",
      "____________________________________________________________________________________________________\n",
      "dense_12 (Dense)                 (None, 28)            3612        lstm_7[0][0]                     \n",
      "____________________________________________________________________________________________________\n",
      "dense_14 (Dense)                 (None, 28)            3612        lstm_8[0][0]                     \n",
      "____________________________________________________________________________________________________\n",
      "dense_16 (Dense)                 (None, 28)            3612        lstm_9[0][0]                     \n",
      "____________________________________________________________________________________________________\n",
      "dense_18 (Dense)                 (None, 28)            3612        lstm_10[0][0]                    \n",
      "____________________________________________________________________________________________________\n",
      "dense_20 (Dense)                 (None, 28)            3612        lstm_11[0][0]                    \n",
      "____________________________________________________________________________________________________\n",
      "dense_22 (Dense)                 (None, 28)            3612        lstm_12[0][0]                    \n",
      "____________________________________________________________________________________________________\n",
      "dense_24 (Dense)                 (None, 28)            3612        lstm_13[0][0]                    \n",
      "____________________________________________________________________________________________________\n",
      "dense_26 (Dense)                 (None, 28)            3612        lstm_14[0][0]                    \n",
      "____________________________________________________________________________________________________\n",
      "dense_28 (Dense)                 (None, 28)            3612        lstm_15[0][0]                    \n",
      "____________________________________________________________________________________________________\n",
      "dense_30 (Dense)                 (None, 28)            3612        lstm_16[0][0]                    \n",
      "====================================================================================================\n",
      "Total params: 2,100,915\n",
      "Trainable params: 2,100,915\n",
      "Non-trainable params: 0\n",
      "____________________________________________________________________________________________________\n"
     ]
    }
   ],
   "source": [
    "model.summary()"
   ]
  },
  {
   "cell_type": "code",
   "execution_count": 117,
   "metadata": {
    "collapsed": true
   },
   "outputs": [],
   "source": [
    "opt = Adam(lr=0.005, beta_1=0.9, beta_2=0.999, decay=0.01)\n",
    "model.compile(opt, loss='categorical_crossentropy', metrics=['accuracy'])"
   ]
  },
  {
   "cell_type": "code",
   "execution_count": 122,
   "metadata": {},
   "outputs": [],
   "source": [
    "m = len(input_train)\n",
    "s0 = np.zeros((m, n_s))\n",
    "c0 = np.zeros((m, n_s))"
   ]
  },
  {
   "cell_type": "code",
   "execution_count": 124,
   "metadata": {
    "collapsed": true
   },
   "outputs": [],
   "source": [
    "from keras.utils import to_categorical"
   ]
  },
  {
   "cell_type": "code",
   "execution_count": 113,
   "metadata": {},
   "outputs": [
    {
     "name": "stdout",
     "output_type": "stream",
     "text": [
      "(97205, 16)\n",
      "(97205, 16, 70)\n"
     ]
    }
   ],
   "source": [
    "print(input_train.shape)\n",
    "input_train_oh = np.array(list(map(lambda x: to_categorical(x, num_classes=input_vocab_size), input_train)))\n",
    "print(input_train_oh.shape) # input shape: (m, Tx, input_vocab_size)"
   ]
  },
  {
   "cell_type": "code",
   "execution_count": 114,
   "metadata": {},
   "outputs": [
    {
     "name": "stdout",
     "output_type": "stream",
     "text": [
      "(97205, 15, 28)\n",
      "15 (97205, 28)\n"
     ]
    }
   ],
   "source": [
    "labels_train_oh = np.array(list(map(lambda x: to_categorical(x, num_classes=output_vocab_size), labels_train)))\n",
    "print(labels_train_oh.shape)\n",
    "outputs = list(labels_train_oh.swapaxes(0,1))\n",
    "print(len(outputs), outputs[0].shape) # outputs list len: Ty, each shape: (m, output_vocab_size)"
   ]
  },
  {
   "cell_type": "code",
   "execution_count": 156,
   "metadata": {},
   "outputs": [
    {
     "data": {
      "text/plain": [
       "<keras.callbacks.History at 0x24e89c71e10>"
      ]
     },
     "execution_count": 156,
     "metadata": {},
     "output_type": "execute_result"
    }
   ],
   "source": [
    "model.fit([input_train_oh, s0, c0], outputs, epochs=1, batch_size=128, verbose=0)"
   ]
  },
  {
   "cell_type": "code",
   "execution_count": 159,
   "metadata": {
    "collapsed": true
   },
   "outputs": [],
   "source": [
    "model.save_weights(PATH+'attention_ted1.h5')"
   ]
  },
  {
   "cell_type": "code",
   "execution_count": 129,
   "metadata": {
    "collapsed": true
   },
   "outputs": [],
   "source": [
    "input_test_oh = np.array(list(map(lambda x: to_categorical(x, num_classes=input_vocab_size), input_test)))\n",
    "#labels_test_oh = np.array(list(map(lambda x: to_categorical(x, num_classes=output_vocab_size), labels_test)))\n",
    "#outputs_test = list(labels_test_oh.swapaxes(0,1))"
   ]
  },
  {
   "cell_type": "code",
   "execution_count": 166,
   "metadata": {
    "collapsed": true
   },
   "outputs": [],
   "source": [
    "def eval_attention():\n",
    "    preds = model.predict([input_test_oh, s0, c0], batch_size=128)\n",
    "    predict = np.transpose(np.argmax(preds, axis = 2))\n",
    "    return (np.mean([all(real==p) for real, p in zip(labels_test, predict)]), predict)"
   ]
  },
  {
   "cell_type": "code",
   "execution_count": 167,
   "metadata": {},
   "outputs": [
    {
     "data": {
      "text/plain": [
       "0.015831867419683364"
      ]
     },
     "execution_count": 167,
     "metadata": {},
     "output_type": "execute_result"
    }
   ],
   "source": [
    "eval_attention()[0]"
   ]
  },
  {
   "cell_type": "code",
   "execution_count": null,
   "metadata": {
    "collapsed": true
   },
   "outputs": [],
   "source": []
  }
 ],
 "metadata": {
  "kernelspec": {
   "display_name": "Python 3",
   "language": "python",
   "name": "python3"
  },
  "language_info": {
   "codemirror_mode": {
    "name": "ipython",
    "version": 3
   },
   "file_extension": ".py",
   "mimetype": "text/x-python",
   "name": "python",
   "nbconvert_exporter": "python",
   "pygments_lexer": "ipython3",
   "version": "3.6.2"
  }
 },
 "nbformat": 4,
 "nbformat_minor": 2
}
