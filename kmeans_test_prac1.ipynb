{
 "cells": [
  {
   "cell_type": "markdown",
   "metadata": {},
   "source": [
    "# Clustering"
   ]
  },
  {
   "cell_type": "markdown",
   "metadata": {},
   "source": [
    "Clustering techniques are unsupervised learning algorithms that try to group unlabelled data into \"clusters\", using the (typically spatial) structure of the data itself.\n",
    "\n",
    "The easiest way to demonstrate how clustering works is to simply generate some data and show them in action. We'll start off by importing the libraries we'll be using today."
   ]
  },
  {
   "cell_type": "code",
   "execution_count": 11,
   "metadata": {
    "collapsed": true
   },
   "outputs": [],
   "source": [
    "%matplotlib inline\n",
    "from importlib import reload\n",
    "import math, numpy as np, matplotlib.pyplot as plt\n",
    "import operator"
   ]
  },
  {
   "cell_type": "markdown",
   "metadata": {},
   "source": [
    "## Create data"
   ]
  },
  {
   "cell_type": "code",
   "execution_count": 2,
   "metadata": {
    "collapsed": true
   },
   "outputs": [],
   "source": [
    "n_clusters=6\n",
    "n_samples =250"
   ]
  },
  {
   "cell_type": "markdown",
   "metadata": {},
   "source": [
    "To generate our data, we're going to pick 6 random points, which we'll call centroids, and for each point we're going to generate 250 random points about it."
   ]
  },
  {
   "cell_type": "code",
   "execution_count": 7,
   "metadata": {
    "collapsed": true
   },
   "outputs": [],
   "source": [
    "centroids = np.random.uniform(-35., 35., (n_clusters, 2)) # dimension = 2, because each point is (x, y)\n",
    "slices = [np.random.multivariate_normal(centroids[i], np.diag([5., 5.]), n_samples) \n",
    "          for i in range(n_clusters)]\n",
    "data = np.concatenate(slices).astype(np.float32)"
   ]
  },
  {
   "cell_type": "markdown",
   "metadata": {},
   "source": [
    "Below we can see each centroid marked w/ X, and the coloring associated to each respective cluster."
   ]
  },
  {
   "cell_type": "code",
   "execution_count": 8,
   "metadata": {
    "collapsed": true
   },
   "outputs": [],
   "source": [
    "def plot_data(centroids, data, n_samples):\n",
    "    colour = plt.cm.rainbow(np.linspace(0, 1, len(centroids)))\n",
    "    for i, centroid in enumerate(centroids):\n",
    "        samples = data[n_samples*i: n_samples*(i+1)]\n",
    "        plt.scatter(samples[:,0], samples[:,1], c=colour[i], s=1)\n",
    "        plt.plot(centroid[0], centroid[1], marker='x', markersize=10, color='k', mew=5)\n",
    "        plt.plot(centroid[0], centroid[1], marker='x', markersize=5, color='r', mew=2)"
   ]
  },
  {
   "cell_type": "code",
   "execution_count": 9,
   "metadata": {},
   "outputs": [
    {
     "data": {
      "image/png": "[encoded data removed]",
      "text/plain": [
       "<matplotlib.figure.Figure at 0x1e5ead41828>"
      ]
     },
     "metadata": {},
     "output_type": "display_data"
    }
   ],
   "source": [
    "plot_data(centroids, data, n_samples)"
   ]
  },
  {
   "cell_type": "markdown",
   "metadata": {
    "collapsed": true,
    "heading_collapsed": true
   },
   "source": [
    "## K means"
   ]
  },
  {
   "cell_type": "markdown",
   "metadata": {
    "hidden": true
   },
   "source": [
    "The goal of clustering is to identify these clusters, defined by their centroids, given the raw data with no labels. Once these centroids have been identified, each point is labelled as belonging to the centroid it is closest to.\n",
    "\n",
    "K means clustering is a simple and popular approach of finding appropriate centroids. It does this by taking random centroids, and iteratively moving them to make the clusters as compact as possible.\n",
    "\n",
    "The algorithm is very simple:\n",
    "- Select the number of clusters N you want to find\n",
    "- Guess N random centroids (more on this below)\n",
    "- While centroids change:\n",
    "    - Create clusters by assigning each point to the nearest centroid\n",
    "    - For each cluster, define the new centroid as the centroid of all points assigned to it\n",
    "    \n",
    "Typically the algorithm is terminated once the change in centroids is negligible or after a certain number of iterations.\n",
    "\n",
    "While guessing random centroids is fine in theory, most implementations use the data itself to identify initial cluster points. This speeds up convergence by initializing centroids in the appropriate regime. Typically, inital points are selected amongst the data and tries to pick them to be as far apart as possible."
   ]
  },
  {
   "cell_type": "code",
   "execution_count": 458,
   "metadata": {
    "collapsed": true
   },
   "outputs": [],
   "source": [
    "import kmeans_prac1; reload(kmeans_prac1)\n",
    "from kmeans_prac1 import *"
   ]
  },
  {
   "cell_type": "code",
   "execution_count": 459,
   "metadata": {},
   "outputs": [
    {
     "data": {
      "text/plain": [
       "(1500, 2)"
      ]
     },
     "execution_count": 459,
     "metadata": {},
     "output_type": "execute_result"
    }
   ],
   "source": [
    "data.shape"
   ]
  },
  {
   "cell_type": "raw",
   "metadata": {
    "collapsed": true
   },
   "source": [
    "k = Kmeans(data, n_clusters)\n",
    "initial_centroids = k.find_initial_centroids()\n",
    "initial_centroids_GPU = tf.Variable(initial_centroids)\n",
    "nearest_indices = k.assign_nearest_indices(initial_centroids_GPU)\n",
    "update_centroids = k.update_centroids(nearest_indices)"
   ]
  },
  {
   "cell_type": "code",
   "execution_count": 460,
   "metadata": {
    "collapsed": true
   },
   "outputs": [],
   "source": [
    "k = Kmeans(data, n_clusters)"
   ]
  },
  {
   "cell_type": "code",
   "execution_count": 449,
   "metadata": {
    "collapsed": true
   },
   "outputs": [],
   "source": [
    "sess = tf.InteractiveSession()"
   ]
  },
  {
   "cell_type": "code",
   "execution_count": 450,
   "metadata": {
    "collapsed": true
   },
   "outputs": [],
   "source": [
    "tf.global_variables_initializer().run()"
   ]
  },
  {
   "cell_type": "code",
   "execution_count": 451,
   "metadata": {
    "collapsed": true
   },
   "outputs": [],
   "source": [
    "initial_centroids = k.find_initial_centroids(n_clusters).eval()"
   ]
  },
  {
   "cell_type": "code",
   "execution_count": 452,
   "metadata": {},
   "outputs": [
    {
     "data": {
      "image/png": "[encoded data removed]",
      "text/plain": [
       "<matplotlib.figure.Figure at 0x1e5fc493ba8>"
      ]
     },
     "metadata": {},
     "output_type": "display_data"
    }
   ],
   "source": [
    "plot_data(initial_centroids, data, n_samples)"
   ]
  },
  {
   "cell_type": "code",
   "execution_count": 453,
   "metadata": {
    "collapsed": true
   },
   "outputs": [],
   "source": [
    "current_centroids = tf.Variable(initial_centroids)\n",
    "nearest_indices = k.assign_nearest_indices(v_initial_centroids)\n",
    "updated_centroids = k.update_centroids(nearest_indices)\n",
    "tf.global_variables_initializer().run()"
   ]
  },
  {
   "cell_type": "code",
   "execution_count": 454,
   "metadata": {},
   "outputs": [
    {
     "name": "stdout",
     "output_type": "stream",
     "text": [
      "[[ 32.313995    7.5038586]\n",
      " [-21.764214    9.38805  ]\n",
      " [ 19.336714   19.57343  ]\n",
      " [-15.705879   28.743505 ]\n",
      " [ -6.657362    8.569197 ]\n",
      " [ 25.634731   16.953865 ]]\n"
     ]
    }
   ],
   "source": [
    "current_centroids = current_centroids.assign(updated_centroids)\n",
    "print(current_centroids.eval())"
   ]
  },
  {
   "cell_type": "code",
   "execution_count": 455,
   "metadata": {},
   "outputs": [
    {
     "data": {
      "image/png": "[encoded data removed]",
      "text/plain": [
       "<matplotlib.figure.Figure at 0x1e58334a7f0>"
      ]
     },
     "metadata": {},
     "output_type": "display_data"
    }
   ],
   "source": [
    "plot_data(updated_centroids.eval(), data, n_samples)"
   ]
  },
  {
   "cell_type": "code",
   "execution_count": 461,
   "metadata": {
    "collapsed": true
   },
   "outputs": [],
   "source": [
    "with tf.Session() as sess:\n",
    "    new_centroids = k.run()"
   ]
  },
  {
   "cell_type": "code",
   "execution_count": 462,
   "metadata": {},
   "outputs": [
    {
     "data": {
      "image/png": "[encoded data removed]",
      "text/plain": [
       "<matplotlib.figure.Figure at 0x1e5fe6b8668>"
      ]
     },
     "metadata": {},
     "output_type": "display_data"
    }
   ],
   "source": [
    "plot_data(new_centroids, data, n_samples)"
   ]
  },
  {
   "cell_type": "markdown",
   "metadata": {
    "hidden": true
   },
   "source": [
    "The result are centroids that have minimized the total distance between all points and their centroids; the centroids are \"optimal\" in this sense.\n",
    "\n",
    "There are some problems with K-means clustering.\n",
    "* Number of clusters needs to be known a priori\n",
    "    * This is an obvious failure of an unsupervised learning algorithm; we want the data to \"speak for itself\"\n",
    "    * Difficult to identify in higher dimensions\n",
    "    \n",
    "* Naive approach only works if the clusters are the same shape\n",
    "    * This is because centroid is identified using euclidean distance"
   ]
  },
  {
   "cell_type": "markdown",
   "metadata": {
    "collapsed": true
   },
   "source": [
    "## Mean shift"
   ]
  },
  {
   "cell_type": "markdown",
   "metadata": {},
   "source": [
    "Most people that have come across clustering algorithms have learnt about **k-means**. Mean shift clustering is a newer and less well-known approach, but it has some important advantages:\n",
    "* It doesn't require selecting the number of clusters in advance, but instead just requires a **bandwidth** to be specified, which can be easily chosen automatically\n",
    "* It can handle clusters of any shape, whereas k-means (without using special extensions) requires that clusters be roughly ball shaped."
   ]
  },
  {
   "cell_type": "markdown",
   "metadata": {},
   "source": [
    "The algorithm is as follows:\n",
    "* For each data point x in the sample X, find the distance between that point x and every other point in X\n",
    "* Create weights for each point in X by using the **Gaussian kernel** of that point's distance to x\n",
    "    * This weighting approach penalizes points further away from x\n",
    "    * The rate at which the weights fall to zero is determined by the **bandwidth**, which is the standard deviation of the Gaussian\n",
    "![Gaussian](http://images.books24x7.com/bookimages/id_5642/fig11-10.jpg)\n",
    "* Update x as the weighted average of all other points in X, weighted based on the previous step\n",
    "\n",
    "This will iteratively push points that are close together even closer until they are next to each other."
   ]
  },
  {
   "cell_type": "markdown",
   "metadata": {},
   "source": [
    "So here's the definition of the gaussian kernel, which you may remember from high school..."
   ]
  },
  {
   "cell_type": "code",
   "execution_count": 12,
   "metadata": {
    "collapsed": true
   },
   "outputs": [],
   "source": [
    "def gaussion(d, bw): # bw: bandwidth = std (sigma)\n",
    "    return 1/np.sqrt(2 * bw**2 * math.pi) * np.exp(- 1/2 * (d/bw)**2)\n",
    "#    return 1/math.sqrt(2 * bw**2 * math.pi) * np.exp(- 1/2 * (d/bw)**2)"
   ]
  },
  {
   "cell_type": "markdown",
   "metadata": {},
   "source": [
    " This person at the science march certainly remembered!\n",
    "\n",
    "<img src=\"http://i.imgur.com/nijQLHw.jpg\" width=400>"
   ]
  },
  {
   "cell_type": "markdown",
   "metadata": {},
   "source": [
    "In our implementation, we choose the bandwidth to be 2.5. \n",
    "\n",
    "One easy way to choose bandwidth is to find which bandwidth covers one third of the data."
   ]
  },
  {
   "cell_type": "code",
   "execution_count": 94,
   "metadata": {},
   "outputs": [
    {
     "name": "stdout",
     "output_type": "stream",
     "text": [
      "(5, 2)\n",
      "(5,)\n",
      "(5, 2)\n",
      "(5, 2)\n"
     ]
    },
    {
     "ename": "ValueError",
     "evalue": "operands could not be broadcast together with shapes (5,) (5,2) ",
     "output_type": "error",
     "traceback": [
      "\u001b[1;31m---------------------------------------------------------------------------\u001b[0m",
      "\u001b[1;31mValueError\u001b[0m                                Traceback (most recent call last)",
      "\u001b[1;32m<ipython-input-94-c2120661fa21>\u001b[0m in \u001b[0;36m<module>\u001b[1;34m()\u001b[0m\n\u001b[0;32m     17\u001b[0m \u001b[1;33m\u001b[0m\u001b[0m\n\u001b[0;32m     18\u001b[0m \u001b[1;31m# This fails when ndarray is in shape like (1500,)\u001b[0m\u001b[1;33m\u001b[0m\u001b[1;33m\u001b[0m\u001b[0m\n\u001b[1;32m---> 19\u001b[1;33m \u001b[0mtest\u001b[0m \u001b[1;33m=\u001b[0m \u001b[0mweight\u001b[0m \u001b[1;33m*\u001b[0m \u001b[0mdat\u001b[0m\u001b[1;33m\u001b[0m\u001b[0m\n\u001b[0m\u001b[0;32m     20\u001b[0m \u001b[0mprint\u001b[0m\u001b[1;33m(\u001b[0m\u001b[0mtest\u001b[0m\u001b[1;33m.\u001b[0m\u001b[0mshape\u001b[0m\u001b[1;33m)\u001b[0m\u001b[1;33m\u001b[0m\u001b[0m\n",
      "\u001b[1;31mValueError\u001b[0m: operands could not be broadcast together with shapes (5,) (5,2) "
     ]
    }
   ],
   "source": [
    "# IMPORTANT numpy Broadcast tutorial\n",
    "\n",
    "dat = data[:5]\n",
    "print(dat.shape)\n",
    "weight = np.ndarray([5])\n",
    "print(weight.shape)\n",
    "\n",
    "# Solution 1: This works after expanding dimension\n",
    "weight_sol1 = np.expand_dims(weight, 1)\n",
    "test_sol1 = weight_sol1 * dat\n",
    "print(test_sol1.shape)\n",
    "\n",
    "# Solution 2: This works after reshaping by (-1, 1)\n",
    "weight_sol2 = weight.reshape(-1, 1)\n",
    "test_sol2 = weight_sol2 * dat\n",
    "print(test_sol2.shape)\n",
    "\n",
    "# This fails when ndarray is in shape like (1500,)\n",
    "test = weight * dat\n",
    "print(test.shape)"
   ]
  },
  {
   "cell_type": "code",
   "execution_count": 13,
   "metadata": {
    "collapsed": true
   },
   "outputs": [],
   "source": [
    "def mean_shift(data):\n",
    "    X = np.copy(data)\n",
    "    for it in range(5):\n",
    "        for i, x in enumerate(X):\n",
    "            dist = np.sqrt(((x-X)**2).sum(1))\n",
    "            weight = gaussion(dist, 2.5)\n",
    "            X[i] = (np.expand_dims(weight,1) * X).sum(0) / weight.sum()\n",
    "    return X"
   ]
  },
  {
   "cell_type": "code",
   "execution_count": 14,
   "metadata": {},
   "outputs": [
    {
     "name": "stdout",
     "output_type": "stream",
     "text": [
      "Wall time: 1.52 s\n"
     ]
    }
   ],
   "source": [
    "%time X = mean_shift(data)"
   ]
  },
  {
   "cell_type": "markdown",
   "metadata": {},
   "source": [
    "We can see that mean shift clustering has almost reproduced our original clustering. The one exception are the very close clusters, but if we really wanted to differentiate them we could lower the bandwidth.\n",
    "\n",
    "What is impressive is that this algorithm nearly reproduced the original clusters without telling it how many clusters there should be."
   ]
  },
  {
   "cell_type": "code",
   "execution_count": 69,
   "metadata": {},
   "outputs": [
    {
     "data": {
      "image/png": "[encoded data removed]",
      "text/plain": [
       "<matplotlib.figure.Figure at 0x2752b630e48>"
      ]
     },
     "metadata": {},
     "output_type": "display_data"
    }
   ],
   "source": [
    "plot_data(centroids+2, X, n_samples)"
   ]
  },
  {
   "cell_type": "markdown",
   "metadata": {},
   "source": [
    "We should be able to accelerate this algorithm with a GPU."
   ]
  },
  {
   "cell_type": "markdown",
   "metadata": {},
   "source": [
    "## Vectorization \n",
    "tried by Ted's own idea. mentioned by Andrew Ng Deep Learning course but not mentioned in Fast.ai course.\n",
    "However the result seems only speeding up a little bit... maybe because data is too small?"
   ]
  },
  {
   "cell_type": "code",
   "execution_count": 102,
   "metadata": {
    "collapsed": true
   },
   "outputs": [],
   "source": [
    "def mean_shift(data):\n",
    "    X = np.copy(data)\n",
    "    for it in range(5):\n",
    "        dist = np.sqrt(np.square(np.expand_dims(X, 1) - X).sum(-1))\n",
    "        weight = gaussion(dist, 2.5)\n",
    "        X = np.multiply(np.expand_dims(weight,-1), X).sum(1) / weight.sum(1).reshape(-1, 1)\n",
    "    return X"
   ]
  },
  {
   "cell_type": "code",
   "execution_count": 103,
   "metadata": {},
   "outputs": [
    {
     "name": "stdout",
     "output_type": "stream",
     "text": [
      "Wall time: 1.29 s\n"
     ]
    }
   ],
   "source": [
    "%time X = mean_shift(data)"
   ]
  },
  {
   "cell_type": "code",
   "execution_count": 104,
   "metadata": {},
   "outputs": [
    {
     "data": {
      "image/png": "[encoded data removed]",
      "text/plain": [
       "<matplotlib.figure.Figure at 0x2752b8f46a0>"
      ]
     },
     "metadata": {},
     "output_type": "display_data"
    }
   ],
   "source": [
    "plot_data(centroids+2, X, n_samples)"
   ]
  },
  {
   "cell_type": "markdown",
   "metadata": {},
   "source": [
    "### GPU"
   ]
  },
  {
   "cell_type": "markdown",
   "metadata": {},
   "source": [
    "To truly accelerate the algorithm, we need to be performing updates on a batch of points per iteration, instead of just one as we were doing."
   ]
  },
  {
   "cell_type": "code",
   "execution_count": 24,
   "metadata": {
    "collapsed": true
   },
   "outputs": [],
   "source": [
    "from importlib import reload\n",
    "import torch_utils; reload(torch_utils)\n",
    "from torch_utils import *"
   ]
  },
  {
   "cell_type": "markdown",
   "metadata": {},
   "source": [
    "The advantage of pytorch is that it's very similar to numpy."
   ]
  },
  {
   "cell_type": "code",
   "execution_count": 64,
   "metadata": {
    "collapsed": true
   },
   "outputs": [],
   "source": [
    "def gaussion(d, bw): # bw: bandwidth = std (sigma)\n",
    "    return 1/math.sqrt(2 * bw**2 * math.pi) * torch.exp(- 1/2 * (d/bw)**2)"
   ]
  },
  {
   "cell_type": "markdown",
   "metadata": {},
   "source": [
    "Torch does not support broadcasting, therefore Jeremy has replaced the distance subtraction line with a subtraction function from his custom pytorch broadcasting library.\n",
    "### update: Torch support broadcasting already!!!"
   ]
  },
  {
   "cell_type": "code",
   "execution_count": 88,
   "metadata": {
    "collapsed": true
   },
   "outputs": [],
   "source": [
    "def mean_shift(data):\n",
    "    X = torch.FloatTensor(data) #.cuda()\n",
    "    for it in range(5):\n",
    "        for i, x in enumerate(X):\n",
    "            dist = torch.sqrt(((x-X)**2).sum(1))\n",
    "            weight = gaussion(dist, 2.5)\n",
    "            X[i] = (torch.unsqueeze(weight,1) * X).sum(0) / weight.sum()\n",
    "    return X"
   ]
  },
  {
   "cell_type": "code",
   "execution_count": 89,
   "metadata": {},
   "outputs": [
    {
     "name": "stdout",
     "output_type": "stream",
     "text": [
      "Wall time: 1.05 s\n"
     ]
    }
   ],
   "source": [
    "%time X = mean_shift(data)"
   ]
  },
  {
   "cell_type": "code",
   "execution_count": 90,
   "metadata": {},
   "outputs": [
    {
     "data": {
      "image/png": "[encoded data removed]",
      "text/plain": [
       "<matplotlib.figure.Figure at 0x2490a666be0>"
      ]
     },
     "metadata": {},
     "output_type": "display_data"
    }
   ],
   "source": [
    "plot_data(centroids+2, X, n_samples)"
   ]
  },
  {
   "cell_type": "markdown",
   "metadata": {},
   "source": [
    "## Vectorization on GPU\n",
    "tried by Ted's own idea. mentioned by Andrew Ng Deep Learning course but not mentioned in Fast.ai course.**\n",
    "\n",
    "### Great! Vectorization works well for Pytorch because of GPU optimization!"
   ]
  },
  {
   "cell_type": "code",
   "execution_count": 145,
   "metadata": {
    "collapsed": true
   },
   "outputs": [],
   "source": [
    "def mean_shift(data):\n",
    "    X = torch.FloatTensor(data).cuda()\n",
    "    for it in range(5):\n",
    "        dist = torch.sqrt(torch.pow((torch.unsqueeze(X, 1) - X), 2).sum(-1))\n",
    "        weight = gaussion(dist, 2.5)\n",
    "        X = torch.mul(torch.unsqueeze(weight,-1), X).sum(1) / weight.sum(1).view(-1, 1)\n",
    "    return X"
   ]
  },
  {
   "cell_type": "code",
   "execution_count": 146,
   "metadata": {},
   "outputs": [
    {
     "name": "stdout",
     "output_type": "stream",
     "text": [
      "Wall time: 5.01 ms\n"
     ]
    }
   ],
   "source": [
    "%time X = mean_shift(data)"
   ]
  },
  {
   "cell_type": "code",
   "execution_count": 147,
   "metadata": {},
   "outputs": [
    {
     "data": {
      "image/png": "[encoded data removed]",
      "text/plain": [
       "<matplotlib.figure.Figure at 0x2490a68ab00>"
      ]
     },
     "metadata": {},
     "output_type": "display_data"
    }
   ],
   "source": [
    "plot_data(centroids+2, X, n_samples)"
   ]
  },
  {
   "cell_type": "code",
   "execution_count": 140,
   "metadata": {},
   "outputs": [
    {
     "name": "stdout",
     "output_type": "stream",
     "text": [
      "Wall time: 282 ms\n"
     ]
    }
   ],
   "source": [
    "%time X = mean_shift(data).cpu().numpy()"
   ]
  },
  {
   "cell_type": "code",
   "execution_count": 141,
   "metadata": {},
   "outputs": [
    {
     "data": {
      "image/png": "[encoded data removed]",
      "text/plain": [
       "<matplotlib.figure.Figure at 0x249049707f0>"
      ]
     },
     "metadata": {},
     "output_type": "display_data"
    }
   ],
   "source": [
    "plot_data(centroids+2, X, n_samples)"
   ]
  },
  {
   "cell_type": "markdown",
   "metadata": {},
   "source": [
    "#### Add batch size: slower but this can avoid long epoch"
   ]
  },
  {
   "cell_type": "code",
   "execution_count": 142,
   "metadata": {
    "collapsed": true
   },
   "outputs": [],
   "source": [
    "def mean_shift(data, bs=500):\n",
    "    n = len(data)\n",
    "    X = torch.FloatTensor(data).cuda()\n",
    "    for it in range(5):\n",
    "        for i in range(0, n, bs):\n",
    "            s = slice(i, min(i+bs, n))\n",
    "            dist = torch.sqrt(torch.pow((torch.unsqueeze(X[s], 1) - X), 2).sum(-1))\n",
    "            weight = gaussion(dist, 2.5)\n",
    "            X[s] = torch.mul(torch.unsqueeze(weight,-1), X).sum(1) / weight.sum(1).view(-1, 1)\n",
    "    return X"
   ]
  },
  {
   "cell_type": "code",
   "execution_count": 143,
   "metadata": {},
   "outputs": [
    {
     "name": "stdout",
     "output_type": "stream",
     "text": [
      "Wall time: 288 ms\n"
     ]
    }
   ],
   "source": [
    "%time X = mean_shift(data).cpu().numpy()"
   ]
  },
  {
   "cell_type": "code",
   "execution_count": 144,
   "metadata": {},
   "outputs": [
    {
     "data": {
      "image/png": "[encoded data removed]",
      "text/plain": [
       "<matplotlib.figure.Figure at 0x2490a1b1208>"
      ]
     },
     "metadata": {},
     "output_type": "display_data"
    }
   ],
   "source": [
    "plot_data(centroids+2, X, n_samples)"
   ]
  },
  {
   "cell_type": "markdown",
   "metadata": {},
   "source": [
    "### GPU"
   ]
  },
  {
   "cell_type": "markdown",
   "metadata": {},
   "source": [
    "To truly accelerate the algorithm, we need to be performing updates on a batch of points per iteration, instead of just one as we were doing."
   ]
  },
  {
   "cell_type": "code",
   "execution_count": 110,
   "metadata": {
    "collapsed": true
   },
   "outputs": [],
   "source": [
    "def dist_b(a, b):\n",
    "    return torch.sqrt(torch.pow((a.unsqueeze(0) - b.unsqueeze(1)), 2).sum(2))\n",
    "    #dist = torch.sqrt(torch.pow((torch.unsqueeze(X, 1) - X), 2).sum(-1))"
   ]
  },
  {
   "cell_type": "code",
   "execution_count": 113,
   "metadata": {},
   "outputs": [
    {
     "data": {
      "text/plain": [
       "\n",
       " 0.5172  0.4499  0.5142\n",
       " 0.3962  0.4089  0.2220\n",
       "[torch.FloatTensor of size 2x3]"
      ]
     },
     "execution_count": 113,
     "metadata": {},
     "output_type": "execute_result"
    }
   ],
   "source": [
    "a = torch.rand(2, 2)\n",
    "b = torch.rand(3, 2)\n",
    "dist_b(b, a)"
   ]
  },
  {
   "cell_type": "code",
   "execution_count": 114,
   "metadata": {
    "collapsed": true
   },
   "outputs": [],
   "source": [
    "def gaussion(d, bw): # bw: bandwidth = std (sigma)\n",
    "    return 1/math.sqrt(2 * bw**2 * math.pi) * torch.exp(- 1/2 * (d/bw)**2)"
   ]
  },
  {
   "cell_type": "code",
   "execution_count": 123,
   "metadata": {
    "collapsed": true
   },
   "outputs": [],
   "source": [
    "def mean_shift(data, bs=500):\n",
    "    n = len(data)\n",
    "    X = torch.FloatTensor(data).cuda()\n",
    "    for it in range(5):\n",
    "        for i in range(0, n, bs):\n",
    "            s = slice(i, min(n, i+bs))\n",
    "            dist = dist_b(X, X[s])\n",
    "            weight = gaussion(dist, 2.5)\n",
    "            X[s] = torch.mul(torch.unsqueeze(weight,-1), X).sum(1) / weight.sum(1).view(-1, 1)\n",
    "            \n",
    "    return X"
   ]
  },
  {
   "cell_type": "code",
   "execution_count": 124,
   "metadata": {},
   "outputs": [
    {
     "name": "stdout",
     "output_type": "stream",
     "text": [
      "Wall time: 519 ms\n"
     ]
    }
   ],
   "source": [
    "%time X = mean_shift(data).cpu().numpy()"
   ]
  },
  {
   "cell_type": "code",
   "execution_count": null,
   "metadata": {
    "collapsed": true
   },
   "outputs": [],
   "source": []
  }
 ],
 "metadata": {
  "kernelspec": {
   "display_name": "Python 3",
   "language": "python",
   "name": "python3"
  },
  "language_info": {
   "codemirror_mode": {
    "name": "ipython",
    "version": 3
   },
   "file_extension": ".py",
   "mimetype": "text/x-python",
   "name": "python",
   "nbconvert_exporter": "python",
   "pygments_lexer": "ipython3",
   "version": "3.6.2"
  }
 },
 "nbformat": 4,
 "nbformat_minor": 2
}
